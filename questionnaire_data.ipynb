{
 "cells": [
  {
   "cell_type": "markdown",
   "id": "35372c92-870d-4ec3-b0f5-674b67ad1bdd",
   "metadata": {},
   "source": [
    "# **Data Analysis of Diet-Awareness Shopping Assistant**\n",
    "\n",
    "Calculating the mean, mode, average, median from data that is obtained according to scales as they represent numerical values.\n",
    "\n",
    "Representing data that has been analysed in a graph using matplotlib. Specifically line graphs.\n",
    "\n",
    "##### **Prepared by Ibrahim Ahmad (210029073)**\n",
    "\n",
    "\n",
    "### **The following provides additional description about the questionnaire.**\n",
    "\n",
    "Our aim is to collect information about you as a customer with regards to how you browse for products and make decisions for what product meets not only your dietary needs but also cost beneficial too. \n",
    "\n",
    "This questionnaire will help us to gain primary information so that it will support our findings and research for a diet-awareness shopping assistant that will provide automation for making appropriate decisions to the products that best match your preferences, and dietary needs. \n",
    "\n",
    "We will simply collect personal information with regards to: \n",
    "\n",
    "- What best describes you as a customer?\n",
    "- Any allergies you have.\n",
    "- The dietary plan that you follow.\n",
    "- Your preferences to shopping. \n",
    "- Why you follow the diet plan?\n",
    "- If you have used a diet-awareness system before.\n",
    "\n",
    "\n",
    "If you have used a diet-awareness please share us your experience by stating the name of the shopping assistant you have used before. What have you like and disliked from the previous system, and what features would you like to see in the new system. \n",
    "\n",
    "Moreover, you can also suggest any features that you would like to have in the diet-awareness shopping assistant."
   ]
  },
  {
   "cell_type": "markdown",
   "id": "ccd6e0ed-a4f1-403f-b799-2a8964022fdf",
   "metadata": {},
   "source": [
    "The actual libraries required to be imported for the data analysis. \n",
    "\n",
    "Please run before moving on to the upcoming python codes."
   ]
  },
  {
   "cell_type": "code",
   "execution_count": 13,
   "id": "560ce111-9244-4155-9f05-e78aa99c214a",
   "metadata": {},
   "outputs": [],
   "source": [
    "import numpy as np\n",
    "import pandas as pd\n",
    "import matplotlib.pyplot as plt\n",
    "import matplotlib.pylab as plt\n",
    "import statistics"
   ]
  },
  {
   "cell_type": "markdown",
   "id": "e7ee55c4-c805-4d52-9ec1-42794438d10e",
   "metadata": {},
   "source": [
    "# **Mean, Mode, Median calculated for what best describes you as a customer**\n",
    "- 1 represents Meal planner\n",
    "- 2 represents Well informed decisions\n",
    "- 3 represents Online customer\n",
    "- 4 represents Eat everything that looks tasty"
   ]
  },
  {
   "cell_type": "code",
   "execution_count": 14,
   "id": "4c0f1b3c-15bb-40d2-8f61-4c7bf8fd91f0",
   "metadata": {},
   "outputs": [
    {
     "name": "stdout",
     "output_type": "stream",
     "text": [
      "34\n",
      "2\n",
      "2.0\n",
      "2\n"
     ]
    }
   ],
   "source": [
    "customer_type = np.array([1,1,1,1,1,1,1,1,1,1,1,2,2,2,2,2,2,2,2,2,2,2,2,2,3,3,3,3,3,3,3,3,3,4])\n",
    "customer_type_mean = statistics.mean(customer_type)\n",
    "customer_type_median = statistics.median(customer_type)\n",
    "customer_type_mode = statistics.mode(customer_type)\n",
    "print(customer_type.size)\n",
    "print(customer_type_mean)\n",
    "print(customer_type_median)\n",
    "print(customer_type_mode)"
   ]
  },
  {
   "cell_type": "markdown",
   "id": "91b5309b-2d5d-4e8f-a589-5faa083f6756",
   "metadata": {
    "tags": []
   },
   "source": [
    "## **Correlation for customers that browse the supermarket and the customer's that make a shopping list**\n",
    "\n",
    "### **Some notes**\n",
    "Negative correlation means that:\n",
    "- Customers that make informed decisions tend to prefer browsing for items manually in the store since they are fully confident with the what they would like to buy, and how they would like to buy from the supermarket."
   ]
  },
  {
   "cell_type": "code",
   "execution_count": 15,
   "id": "6a389bf6-9591-431b-933f-dc672d2c6f7a",
   "metadata": {},
   "outputs": [
    {
     "name": "stdout",
     "output_type": "stream",
     "text": [
      "-0.1781741612749496\n"
     ]
    }
   ],
   "source": [
    "y_customer_how_shops = [1,0,0,0,0,1,1,0,0,1,0,0,0] #that create a shopping list\n",
    "x_customer_how_shops = [1,2,3,4,5,6,7,8,9,10,11,12,13] #customers that make well-informed decisions\n",
    "\n",
    "print(statistics.correlation(x_customer_how_shops, y_customer_how_shops))"
   ]
  },
  {
   "cell_type": "markdown",
   "id": "254d32f7-b2a8-44dd-b045-378bc574067d",
   "metadata": {},
   "source": [
    "# **Correlation for importance of nutritional information and montioring of daily calorie intakes**\n",
    "For nutritional_info:\n",
    "- Where 1 means not at all important\n",
    "- Where 2 means slightly important\n",
    "- Where 3 means important\n",
    "- Where 4 means fairly important\n",
    "- Where 5 means very important\n",
    "\n",
    "For monitor_calorie_intake:\n",
    "- Where 0 means no\n",
    "- Where 1 means yes"
   ]
  },
  {
   "cell_type": "code",
   "execution_count": 16,
   "id": "38a7bed0-7e7f-489c-8a27-7dc676f4c835",
   "metadata": {},
   "outputs": [
    {
     "name": "stdout",
     "output_type": "stream",
     "text": [
      "3\n",
      "4\n",
      "0\n",
      "0.6922054922706944\n"
     ]
    }
   ],
   "source": [
    "nutritional_info = np.array([1,1,1,3,3,3,3,3,3,3,3,3,3,3,3,3,4,4,4,4,4,4,4,4,4,4,4,4,5,5,5,5,5])\n",
    "#where 0 represents yes, 1 represents no\n",
    "monitor_calorie_intake = np.array([0,0,0,0,0,0,0,0,0,0,0,0,0,0,0,0,0,0,0,0,1,1,1,1,1,1,1,1,1,1,1,1,1])\n",
    "\n",
    "monitor_calorie_intake_correlation_with_nutrition_importance = statistics.correlation(monitor_calorie_intake, nutritional_info)\n",
    "\n",
    "print(statistics.mean(nutritional_info))\n",
    "print(statistics.median(nutritional_info))\n",
    "print(statistics.mean(monitor_calorie_intake))\n",
    "print(monitor_calorie_intake_correlation_with_nutrition_importance)"
   ]
  },
  {
   "cell_type": "markdown",
   "id": "9da1835a-4bb4-4eeb-bd15-567f565e4e18",
   "metadata": {},
   "source": [
    "## **Correlation of high protein diet and monitoring dietary intake**\n",
    "A positive correlation means that those who follow a high protein diet tend to more likely strictly follow their macronutrient, and calorie intake."
   ]
  },
  {
   "cell_type": "code",
   "execution_count": 17,
   "id": "f97c6273-b615-44f0-ad58-aab183f3895e",
   "metadata": {},
   "outputs": [
    {
     "name": "stdout",
     "output_type": "stream",
     "text": [
      "0.15947323018612514\n"
     ]
    }
   ],
   "source": [
    "##those with high protein monitor their dietary intake\n",
    "x_monitor_high_protein = [1,2,3,4,5,6,7,8,9,10,11,12,13,14]\n",
    "y_monitor_high_protein = [0,0,1,1,0,1,0,1,0,0,1,1,1,0]\n",
    "\n",
    "print(statistics.correlation(x_monitor_high_protein, y_monitor_high_protein))\n"
   ]
  },
  {
   "cell_type": "markdown",
   "id": "d9778d4c-6c2a-455e-bb7f-8bcc1a66fb3f",
   "metadata": {},
   "source": [
    "## **Mean result of on-the-fly shopping**"
   ]
  },
  {
   "cell_type": "markdown",
   "id": "d57df49d-7ce9-4d49-a5b5-3951aded7b72",
   "metadata": {},
   "source": [
    "### **The actual data for on the fly shopping**\n",
    "\n",
    "The following array data holds information regarding the customer having the ability of making food substitiutions on the fly.\n",
    "\n",
    "- One participant selected 1.\n",
    "- Two participants selected 2.\n",
    "- Seven participants selected 3.\n",
    "- Eight participants selected 4.\n",
    "- Five participants select 5."
   ]
  },
  {
   "cell_type": "code",
   "execution_count": 18,
   "id": "cc70f953-c06a-47d0-9d34-bb25c7367059",
   "metadata": {},
   "outputs": [],
   "source": [
    "data = np.array([1,2,2,2,3,3,3,3,3,3,3,3,3,4,4,4,4,4,4,4,4,4,4,4,5,5,5,5,5,5,5,5,5])\n",
    "y = np.arange(32);\n",
    "y = np.trim_zeros(y)"
   ]
  },
  {
   "cell_type": "code",
   "execution_count": 23,
   "id": "a360bc26-32ad-43f8-bfa4-26b199be4e6d",
   "metadata": {},
   "outputs": [
    {
     "name": "stdout",
     "output_type": "stream",
     "text": [
      "Average number of making food substitutions are:  3\n",
      "Altogether 33 responses.\n"
     ]
    }
   ],
   "source": [
    "# print the following data for on-the-fly shopping\n",
    "# print(data)\n",
    "# print(y)\n",
    "\n",
    "#mean result\n",
    "print(\"Average number of making food substitutions are: \",statistics.mean(data))\n",
    "\n",
    "#size of array, i.e. responses.\n",
    "print(\"Altogether\", data.size, \"responses.\")"
   ]
  },
  {
   "cell_type": "markdown",
   "id": "20402fbe-2085-44e0-82bd-9eb40eea323e",
   "metadata": {},
   "source": [
    "# **Average, Median, Mode, Variance for those that make food substitions on the fly shopping.**"
   ]
  },
  {
   "cell_type": "code",
   "execution_count": 20,
   "id": "81d96800-e5da-4a2a-9df6-8d1aa511db98",
   "metadata": {},
   "outputs": [
    {
     "name": "stdout",
     "output_type": "stream",
     "text": [
      "Average scale level:  3\n",
      "Median scale level: 4\n",
      "Mode: 4\n",
      "Median Grouped: 3.8181818181818183\n",
      "Variance: 1\n"
     ]
    }
   ],
   "source": [
    "#calculating the mean\n",
    "one_the_fly_shopping_mean = statistics.mean(data)\n",
    "print(\"Average scale level: \",one_the_fly_shopping_mean)\n",
    "\n",
    "#calculating median\n",
    "one_the_fly_shopping_median = statistics.median(data)\n",
    "print(\"Median scale level:\",one_the_fly_shopping_median)\n",
    "\n",
    "#calculating mode\n",
    "one_the_fly_shopping_mode = statistics.mode(data)\n",
    "print(\"Mode:\",one_the_fly_shopping_mode)\n",
    "\n",
    "#calculating median grouped together with dataset\n",
    "one_the_fly_shopping_median_grouped = statistics.median_grouped(data)\n",
    "print(\"Median Grouped:\", one_the_fly_shopping_median_grouped)\n",
    "\n",
    "#calculating the variance\n",
    "#the dataset that has poor relationship\n",
    "one_the_fly_shopping_variance = statistics.variance(data)\n",
    "print(\"Variance:\", one_the_fly_shopping_variance)"
   ]
  },
  {
   "cell_type": "markdown",
   "id": "39c0c405-611e-4eb1-b5a7-179a8f68ab27",
   "metadata": {},
   "source": [
    "## **Correlation between Health-related issues and Food Tracking**\n",
    "- Where 1 represents health concerns in general\n",
    "- Where 2 represents Weight Management\n",
    "- Where 0 represents other\n",
    "\n",
    "Determining the correlation betweeen those who have a specific health plan whether if it is weight management, or health-concern and with food tracking.\n",
    "\n",
    "If there is a positive correlation, then this means that there is a strong relationship between those who have health-related issue which have a strong preference with food tracking."
   ]
  },
  {
   "cell_type": "code",
   "execution_count": 31,
   "id": "9190758a-5dcc-4324-bcb6-ee92ec7df7f1",
   "metadata": {},
   "outputs": [
    {
     "name": "stdout",
     "output_type": "stream",
     "text": [
      "0.7356123579206245\n"
     ]
    }
   ],
   "source": [
    "x_health_related_issues = [1,2,3,4,5,6,7,8]\n",
    "y_health_related_issues = [1,0,0,0,2,2,2,2]\n",
    "\n",
    "print(statistics.correlation(x_health_related_issues, y_health_related_issues))"
   ]
  }
 ],
 "metadata": {
  "kernelspec": {
   "display_name": "Python 3 (ipykernel)",
   "language": "python",
   "name": "python3"
  },
  "language_info": {
   "codemirror_mode": {
    "name": "ipython",
    "version": 3
   },
   "file_extension": ".py",
   "mimetype": "text/x-python",
   "name": "python",
   "nbconvert_exporter": "python",
   "pygments_lexer": "ipython3",
   "version": "3.10.6"
  }
 },
 "nbformat": 4,
 "nbformat_minor": 5
}
