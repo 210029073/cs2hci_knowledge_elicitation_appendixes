{
 "cells": [
  {
   "cell_type": "markdown",
   "id": "35372c92-870d-4ec3-b0f5-674b67ad1bdd",
   "metadata": {},
   "source": [
    "# **Data Analysis of Diet-Awareness Shopping Assistant**\n",
    "\n",
    "Calculating the mean, mode, average, median from data that is obtained according to scales as they represent numerical values.\n",
    "\n",
    "Representing data that has been analysed in a graph using matplotlib. Specifically line graphs.\n",
    "\n",
    "##### **Prepared by Ibrahim Ahmad (210029073)**\n",
    "\n",
    "\n",
    "### **The following provides additional description about the questionnaire.**\n",
    "\n",
    "Our aim is to collect information about you as a customer with regards to how you browse for products and make decisions for what product meets not only your dietary needs but also cost beneficial too. \n",
    "\n",
    "This questionnaire will help us to gain primary information so that it will support our findings and research for a diet-awareness shopping assistant that will provide automation for making appropriate decisions to the products that best match your preferences, and dietary needs. \n",
    "\n",
    "We will simply collect personal information with regards to: \n",
    "\n",
    "- What best describes you as a customer?\n",
    "- Any allergies you have.\n",
    "- The dietary plan that you follow.\n",
    "- Your preferences to shopping. \n",
    "- Why you follow the diet plan?\n",
    "- If you have used a diet-awareness system before.\n",
    "\n",
    "\n",
    "If you have used a diet-awareness please share us your experience by stating the name of the shopping assistant you have used before. What have you like and disliked from the previous system, and what features would you like to see in the new system. \n",
    "\n",
    "Moreover, you can also suggest any features that you would like to have in the diet-awareness shopping assistant."
   ]
  },
  {
   "cell_type": "markdown",
   "id": "d9778d4c-6c2a-455e-bb7f-8bcc1a66fb3f",
   "metadata": {},
   "source": [
    "## **Mean result of on-the-fly shopping**"
   ]
  },
  {
   "cell_type": "markdown",
   "id": "ccd6e0ed-a4f1-403f-b799-2a8964022fdf",
   "metadata": {},
   "source": [
    "The actual libraries required to be imported for the data analysis. \n",
    "\n",
    "Please run before moving on to the upcoming python codes."
   ]
  },
  {
   "cell_type": "code",
   "execution_count": 108,
   "id": "560ce111-9244-4155-9f05-e78aa99c214a",
   "metadata": {},
   "outputs": [],
   "source": [
    "import numpy as np\n",
    "import pandas as pd\n",
    "import matplotlib.pyplot as plt\n",
    "import matplotlib.pylab as plt\n",
    "import statistics"
   ]
  },
  {
   "cell_type": "markdown",
   "id": "d57df49d-7ce9-4d49-a5b5-3951aded7b72",
   "metadata": {},
   "source": [
    "### **The actual data for on the fly shopping**\n",
    "\n",
    "The following array data holds information regarding the customer having the ability of making food substitiutions on the fly.\n",
    "\n",
    "- One participant selected 1.\n",
    "- Two participants selected 2.\n",
    "- Seven participants selected 3.\n",
    "- Eight participants selected 4.\n",
    "- Five participants select 5."
   ]
  },
  {
   "cell_type": "code",
   "execution_count": 93,
   "id": "cc70f953-c06a-47d0-9d34-bb25c7367059",
   "metadata": {},
   "outputs": [],
   "source": [
    "data = np.array([1,2,2,3,3,3,3,3,3,3,4,4,4,4,4,4,4,4,5,5,5,5,5])\n",
    "y = np.arange(24);\n",
    "y = np.trim_zeros(y)"
   ]
  },
  {
   "cell_type": "code",
   "execution_count": 94,
   "id": "a360bc26-32ad-43f8-bfa4-26b199be4e6d",
   "metadata": {},
   "outputs": [
    {
     "name": "stdout",
     "output_type": "stream",
     "text": [
      "[1 2 2 3 3 3 3 3 3 3 4 4 4 4 4 4 4 4 5 5 5 5 5]\n",
      "[ 1  2  3  4  5  6  7  8  9 10 11 12 13 14 15 16 17 18 19 20 21 22 23]\n",
      "Altogether 23 responses.\n"
     ]
    }
   ],
   "source": [
    "# print the following data for on-the-fly shopping\n",
    "print(data)\n",
    "print(y)\n",
    "#size of array, i.e. responses.\n",
    "print(\"Altogether\", data.size, \"responses.\")"
   ]
  },
  {
   "cell_type": "markdown",
   "id": "d03f4ca6-5c90-45e9-a625-bf3cdd263af2",
   "metadata": {},
   "source": [
    "## **Represented in a line graph**"
   ]
  },
  {
   "cell_type": "code",
   "execution_count": 113,
   "id": "57ed5bc5-5399-4d58-ac6a-b457becfe314",
   "metadata": {},
   "outputs": [
    {
     "data": {
      "image/png": "[encoded data removed]",
      "text/plain": [
       "<Figure size 640x480 with 1 Axes>"
      ]
     },
     "metadata": {},
     "output_type": "display_data"
    }
   ],
   "source": [
    "#on_the_fly_data = \n",
    "plt.title = \"On-the-fly-shopping\"\n",
    "plt.xlabel = \"Scale to 5\"\n",
    "plt.ylabel = \"Number of participants\"\n",
    "plt.plot(data,y)\n",
    "plt.show()"
   ]
  },
  {
   "cell_type": "code",
   "execution_count": 133,
   "id": "81d96800-e5da-4a2a-9df6-8d1aa511db98",
   "metadata": {},
   "outputs": [
    {
     "name": "stdout",
     "output_type": "stream",
     "text": [
      "Average scale level:  3\n",
      "Median scale level: 4\n",
      "Mode: 4\n",
      "Median Grouped: 3.6875\n",
      "Variance: 1\n",
      "Covariance: 6.863636363636363\n",
      "Correlation: 0.9403765724672747\n"
     ]
    }
   ],
   "source": [
    "#calculating the mean\n",
    "one_the_fly_shopping_mean = statistics.mean(data)\n",
    "print(\"Average scale level: \",one_the_fly_shopping_mean)\n",
    "\n",
    "#calculating median\n",
    "one_the_fly_shopping_median = statistics.median(data)\n",
    "print(\"Median scale level:\",one_the_fly_shopping_median)\n",
    "\n",
    "#calculating mode\n",
    "one_the_fly_shopping_mode = statistics.mode(data)\n",
    "print(\"Mode:\",one_the_fly_shopping_mode)\n",
    "\n",
    "#calculating median grouped together with dataset\n",
    "one_the_fly_shopping_median_grouped = statistics.median_grouped(data)\n",
    "print(\"Median Grouped:\", one_the_fly_shopping_median_grouped)\n",
    "\n",
    "#calculating the variance\n",
    "#the dataset that has poor relationship\n",
    "one_the_fly_shopping_variance = statistics.variance(data)\n",
    "print(\"Variance:\", one_the_fly_shopping_variance)\n",
    "\n",
    "#determining the covariance\n",
    "#if > 0 then strong relationship,\n",
    "# otherwise weak relationship\n",
    "one_the_fly_shopping_covariance = statistics.covariance(data, y)\n",
    "print(\"Covariance:\", one_the_fly_shopping_covariance)\n",
    "\n",
    "#determining correlation: postive correlation nearest to 1 is strong\n",
    "#anything lower than zero denotes weak relationship between dataset\n",
    "one_the_fly_shopping_correlation = statistics.correlation(data, y)\n",
    "print(\"Correlation:\",one_the_fly_shopping_correlation)"
   ]
  }
 ],
 "metadata": {
  "kernelspec": {
   "display_name": "Python 3 (ipykernel)",
   "language": "python",
   "name": "python3"
  },
  "language_info": {
   "codemirror_mode": {
    "name": "ipython",
    "version": 3
   },
   "file_extension": ".py",
   "mimetype": "text/x-python",
   "name": "python",
   "nbconvert_exporter": "python",
   "pygments_lexer": "ipython3",
   "version": "3.10.6"
  }
 },
 "nbformat": 4,
 "nbformat_minor": 5
}
